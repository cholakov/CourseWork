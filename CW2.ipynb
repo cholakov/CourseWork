{
 "cells": [
  {
   "cell_type": "code",
   "execution_count": 1,
   "metadata": {},
   "outputs": [],
   "source": [
    "import matplotlib\n",
    "matplotlib.use('TkAgg')  # avoid non-GUI warning for matplotlib\n",
    "import matplotlib.pyplot as plt\n",
    "import numpy as np\n",
    "\n",
    "from IPython.display import display, HTML\n",
    "from itertools import product as cartesian_product\n",
    "from skimage.draw import circle, circle_perimeter\n",
    "\n",
    "from utils import *\n",
    "\n",
    "%matplotlib inline\n",
    "np.set_printoptions(linewidth=250,precision=2)"
   ]
  },
  {
   "cell_type": "markdown",
   "metadata": {},
   "source": [
    "## Environment Definition"
   ]
  },
  {
   "cell_type": "code",
   "execution_count": 2,
   "metadata": {},
   "outputs": [],
   "source": [
    "class MazeGenerator(object):\n",
    "    def __init__(self):\n",
    "        self.maze = None\n",
    "    \n",
    "    def init_end_states(self):\n",
    "        \"\"\"Get start and end goals\"\"\"\n",
    "        init_state = [3,1]\n",
    "        goal_states = [[11,17]]\n",
    "        return init_state, goal_states\n",
    "        \n",
    "    def get_maze(self):\n",
    "        return self.maze\n",
    "\n",
    "\n",
    "class SimpleMazeGenerator(MazeGenerator):\n",
    "    def __init__(self, maze):\n",
    "        super().__init__()\n",
    "        \n",
    "        self.maze = maze"
   ]
  },
  {
   "cell_type": "code",
   "execution_count": 3,
   "metadata": {},
   "outputs": [],
   "source": [
    "#Region ID's (also related to the region colours, more in utils.py - line 113)\n",
    "regions = {'water':6, 'edge':7, 'sky':8, 'mine':4, 'uncharted':5}\n",
    "\n",
    "env_size = 19\n",
    "maze_array = np.zeros([env_size,env_size]) + regions['water']\n",
    "\n",
    "#Boundary\n",
    "maze_array[:,0] = regions['edge']\n",
    "maze_array[:,-1] = regions['edge']\n",
    "maze_array[-1,:] = regions['edge']\n",
    "maze_array[0:2,:] = regions['sky']\n",
    "\n",
    "#Bombs\n",
    "maze_array[circle(11,3,2)] = regions['mine']\n",
    "maze_array[circle(6,14,2)] = regions['mine']\n",
    "maze_array[circle(15,4,2)] = regions['mine']\n",
    "maze_array[circle(5,10,2)] = regions['mine']\n",
    "maze_array[circle(13,16,2)] = regions['mine']\n",
    "maze_array[circle(4,4,2)] = regions['mine']\n",
    "\n",
    "#Unmapped territory\n",
    "maze_array[circle(12,10,5)] = regions['uncharted']"
   ]
  },
  {
   "cell_type": "code",
   "execution_count": 4,
   "metadata": {},
   "outputs": [
    {
     "name": "stdout",
     "output_type": "stream",
     "text": [
      "\u001b[33mWARN: gym.spaces.Box autodetected dtype as <class 'numpy.float32'>. Please provide explicit dtype.\u001b[0m\n"
     ]
    }
   ],
   "source": [
    "#Generate the underwater maze environment\n",
    "maze = SimpleMazeGenerator(maze_array)\n",
    "submarine = MazeEnv(maze, render_trace=True)"
   ]
  },
  {
   "cell_type": "markdown",
   "metadata": {},
   "source": [
    "## Brief Introduction"
   ]
  },
  {
   "cell_type": "code",
   "execution_count": 5,
   "metadata": {},
   "outputs": [
    {
     "data": {
      "text/plain": [
       "<matplotlib.image.AxesImage at 0x10d720198>"
      ]
     },
     "execution_count": 5,
     "metadata": {},
     "output_type": "execute_result"
    },
    {
     "data": {
      "image/png": "[encoded data removed]",
      "text/plain": [
       "<matplotlib.figure.Figure at 0x10a72d6a0>"
      ]
     },
     "metadata": {},
     "output_type": "display_data"
    }
   ],
   "source": [
    "# A view of the environment\n",
    "\n",
    "#reset(), resets the environment back to it's initial conditions and returns a view of it\n",
    "snapshot = submarine._reset() \n",
    "\n",
    "plt.imshow(snapshot, cmap=submarine.cmap, norm=submarine.norm)"
   ]
  },
  {
   "cell_type": "code",
   "execution_count": 6,
   "metadata": {},
   "outputs": [
    {
     "name": "stdout",
     "output_type": "stream",
     "text": [
      " Number of Actions :  4 \n",
      " Action ID: Up, Down, Left, Right =  [0, 1, 2, 3] \n",
      " Goal states:  [[11, 17]] \n",
      " Maze size:  (19, 19) \n",
      " List of all states in the environment:  [(0, 0), (0, 1), (0, 2), (0, 3), (0, 4)] ...\n"
     ]
    }
   ],
   "source": [
    "# Some available information from the environment\n",
    "print(  \" Number of Actions : \", submarine.num_actions,\n",
    "      \"\\n Action ID: Up, Down, Left, Right = \",submarine.all_actions,\n",
    "      \"\\n Goal states: \", submarine.goal_states,\n",
    "      \"\\n Maze size: \", submarine.maze_size,\n",
    "      \"\\n List of all states in the environment: \", submarine.valid_states[0:5], \"...\")"
   ]
  },
  {
   "cell_type": "code",
   "execution_count": 7,
   "metadata": {
    "slideshow": {
     "slide_type": "-"
    }
   },
   "outputs": [
    {
     "data": {
      "text/plain": [
       "<matplotlib.image.AxesImage at 0x10d831b70>"
      ]
     },
     "execution_count": 7,
     "metadata": {},
     "output_type": "execute_result"
    },
    {
     "data": {
      "image/png": "[encoded data removed]",
      "text/plain": [
       "<matplotlib.figure.Figure at 0x10a72d240>"
      ]
     },
     "metadata": {},
     "output_type": "display_data"
    }
   ],
   "source": [
    "# Unlike the traditional gym environment, each call to the step() function executes an \n",
    "# action and takes a step through the dynamics of the environment.\n",
    "# The resulting environmental observation is returned. \n",
    "# Note: This function updates the state of the executing agent.\n",
    "\n",
    "\n",
    "submarine._step(1)\n",
    "submarine._step(1)\n",
    "submarine._step(1)\n",
    "snapshot = submarine._step(1)\n",
    "plt.imshow(snapshot, cmap=submarine.cmap, norm=submarine.norm)"
   ]
  },
  {
   "cell_type": "code",
   "execution_count": 8,
   "metadata": {},
   "outputs": [
    {
     "data": {
      "text/plain": [
       "<matplotlib.image.AxesImage at 0x10d911828>"
      ]
     },
     "execution_count": 8,
     "metadata": {},
     "output_type": "execute_result"
    },
    {
     "data": {
      "image/png": "[encoded data removed]",
      "text/plain": [
       "<matplotlib.figure.Figure at 0x10d7a4e10>"
      ]
     },
     "metadata": {},
     "output_type": "display_data"
    }
   ],
   "source": [
    "submarine._step(3)\n",
    "submarine._step(3)\n",
    "snapshot = submarine._step(3)\n",
    "plt.imshow(snapshot, cmap=submarine.cmap, norm=submarine.norm)"
   ]
  },
  {
   "cell_type": "code",
   "execution_count": 9,
   "metadata": {},
   "outputs": [
    {
     "data": {
      "text/plain": [
       "[0, 1]"
      ]
     },
     "execution_count": 9,
     "metadata": {},
     "output_type": "execute_result"
    }
   ],
   "source": [
    "# _next_state(current_state,action) takes a state and an action as an input and \n",
    "# returns the resulting state.\n",
    "# Note: This function does not update the state of the executing agent.\n",
    "submarine._next_state((0,0),3)"
   ]
  },
  {
   "cell_type": "markdown",
   "metadata": {},
   "source": [
    "# CourseWork\n",
    "\n",
    "You are to design an agent that will be in charge of the navigation of a submarine, through a\n",
    "minefield, towards a goal.\n",
    "\n",
    "Navigating through uncharted territory can be dangerous, which we will model by applying some damage to the submarine. Additionally, there is some uncertainty in the execution of actions when moving through uncharted territory. Currents are strong and there is a 20% chance that the submarine will diverge away from its path during execution. For example, given that our current state is (12,10) within the uncharted territory, and we execute a down action; there is an 80% chance it will go down to (13,10), but also a 10% chance that it will go left to (12,9), and another 10% chance it will go right to (12,11).\n",
    "\n",
    "\n",
    "Hitting a mine will lead to the destruction of the submarine and boundary regions marked **edge** or **sky** cannot be traversed.  Your task is to develop a strategy for this agent (plotted as the *blue* dot) to safely navigate towards the goal (plotted as the *green* dot).\n",
    "\n",
    "You are to do this using the principles of Dynamic Programming. In particular, in this exercise,\n",
    "you will implement the methods of Policy and Value Iteration. For all of these questions, please use\n",
    "the provided visualisation functions to plot your policies and their associated trajectories. Include\n",
    "concise comments within the notebook to highlight any interesting observations to support your\n",
    "answers"
   ]
  },
  {
   "cell_type": "markdown",
   "metadata": {},
   "source": [
    "## Question 1.1 : Reward and Transition Functions"
   ]
  },
  {
   "cell_type": "markdown",
   "metadata": {},
   "source": [
    "Define suitable reward and transition functions for the submarine environment. This is a key task for you as the\n",
    "designer of this agent. \n",
    "\n",
    "The reward function specifies a scalar reward for every state in the environment (in accordance to the coursework description above) and the transition function determines the next *probable* state, $s'$, reached when an action $a$ is taken from state $s$."
   ]
  },
  {
   "cell_type": "code",
   "execution_count": 10,
   "metadata": {},
   "outputs": [],
   "source": [
    "np.random.seed(2341)"
   ]
  },
  {
   "cell_type": "raw",
   "metadata": {},
   "source": [
    "regions = {'water':6, 'edge':7, 'sky':8, 'mine':4, 'uncharted':5}\n",
    "maze_array[y,x]\n",
    "Action ID: Up, Down, Left, Right =  [0, 1, 2, 3] \n",
    "\n",
    "0 Up\n",
    "1 Down\n",
    "2 Left\n",
    "3 Right"
   ]
  },
  {
   "cell_type": "markdown",
   "metadata": {},
   "source": [
    "### Transition"
   ]
  },
  {
   "cell_type": "code",
   "execution_count": 11,
   "metadata": {},
   "outputs": [],
   "source": [
    "def get_transition(currState, action, probabilistic=False):\n",
    "    \n",
    "    def bounds_check(direction): \n",
    "        \"\"\"\n",
    "        Given a direction of movement, this method returns the transition state \n",
    "        as determined by _next_state(), unless the result falls outside the \n",
    "        bounds of the environment. In that case, the method returns currState.\n",
    "        \n",
    "        \"\"\"\n",
    "        goalState = submarine._next_state(currState, direction)\n",
    "        if \\\n",
    "        (goalState[0] < 0) or \\\n",
    "        (goalState[1] < 0) or \\\n",
    "        (goalState[0] > env_size - 1) or \\\n",
    "        (goalState[1] > env_size - 1):\n",
    "            return currState\n",
    "        else:\n",
    "            return goalState\n",
    "    \n",
    "    # region type of current state\n",
    "    currRegion = maze_array[currState[0]][currState[1]] \n",
    "    \n",
    "    if probabilistic:\n",
    "        possible_next_states = []\n",
    "        if currRegion == 5: # unchartered waters\n",
    "            possible_next_states.append((bounds_check(action), 0.8))\n",
    "            if action in (2,3):\n",
    "                possible_next_states.append((bounds_check(0), 0.1))\n",
    "                possible_next_states.append((bounds_check(1), 0.1))\n",
    "            elif action in (0,1):\n",
    "                possible_next_states.append((bounds_check(2), 0.1))\n",
    "                possible_next_states.append((bounds_check(3), 0.1))\n",
    "        else:\n",
    "            possible_next_states.append((bounds_check(action), 1))\n",
    "        \n",
    "        return possible_next_states\n",
    "        # Sample: [([11, 10], 0.8), ([10, 9], 0.1), ([10, 11], 0.1)] \n",
    "    else:\n",
    "        return bounds_check(action)\n",
    "        # Sample [3, 4]"
   ]
  },
  {
   "cell_type": "markdown",
   "metadata": {},
   "source": [
    "### Reward"
   ]
  },
  {
   "cell_type": "code",
   "execution_count": 12,
   "metadata": {},
   "outputs": [],
   "source": [
    "def get_reward(nextState):\n",
    "    \"\"\"\n",
    "    Returns reward based on the state \n",
    "    which the submarine transitions to.\n",
    "    \"\"\"\n",
    "    \n",
    "    nextRegion = maze_array[nextState[0]][nextState[1]] \n",
    "    \n",
    "    if list(nextState) in submarine.goal_states:\n",
    "        return 20 # goal\n",
    "    elif nextRegion == 4: \n",
    "        return -20 # mine\n",
    "    elif nextRegion in (7,8): \n",
    "        return -10 # sky or edge\n",
    "    else:\n",
    "        return -1 # water or unchartered"
   ]
  },
  {
   "cell_type": "markdown",
   "metadata": {},
   "source": [
    "## Question 1.2: Value Iteration\n",
    "\n",
    "\n",
    "Your first algorithmic task will be to apply value iteration to the solution of this navigation task, using the reward and transition functions you have devised in the previous section."
   ]
  },
  {
   "cell_type": "markdown",
   "metadata": {},
   "source": [
    "### Value Iteration"
   ]
  },
  {
   "cell_type": "code",
   "execution_count": 65,
   "metadata": {},
   "outputs": [],
   "source": [
    "DISCOUNT = 0.8"
   ]
  },
  {
   "cell_type": "code",
   "execution_count": 66,
   "metadata": {},
   "outputs": [
    {
     "name": "stdout",
     "output_type": "stream",
     "text": [
      "Value iteration converged at iteration #71\n"
     ]
    }
   ],
   "source": [
    "V = np.zeros_like(submarine.maze)\n",
    "V_sum = 0\n",
    "for i in range(1000):\n",
    "    V_temp = V\n",
    "    for state, region in np.ndenumerate(submarine.maze):\n",
    "        curr_state_val = - float(\"inf\")\n",
    "        for action in range(submarine.num_actions):\n",
    "            possible_next_states = get_transition(state, action, probabilistic=True)\n",
    "            total_val = 0\n",
    "            for next_state in possible_next_states:\n",
    "                next_state_val = DISCOUNT * V[next_state[0][0]][next_state[0][1]]\n",
    "                action_val = get_reward(next_state[0])\n",
    "                total_val += next_state[1] * (action_val + next_state_val)\n",
    "            if total_val > curr_state_val:\n",
    "                curr_state_val = total_val\n",
    "        V_temp[state[0]][state[1]] = curr_state_val\n",
    "    \n",
    "    V = V_temp\n",
    "        \n",
    "    if (i % 10) == 0:\n",
    "        if np.abs(V.sum() - V_sum) < 1e-6:\n",
    "            print(f'Value iteration converged at iteration #{i+1:,}')\n",
    "            break\n",
    "        V_sum = V.sum()"
   ]
  },
  {
   "cell_type": "code",
   "execution_count": 35,
   "metadata": {
    "scrolled": true
   },
   "outputs": [
    {
     "data": {
      "text/plain": [
       "<matplotlib.image.AxesImage at 0x17141004e0>"
      ]
     },
     "execution_count": 35,
     "metadata": {},
     "output_type": "execute_result"
    },
    {
     "data": {
      "image/png": "[encoded data removed]",
      "text/plain": [
       "<matplotlib.figure.Figure at 0x171416c748>"
      ]
     },
     "metadata": {},
     "output_type": "display_data"
    }
   ],
   "source": [
    "plt.imshow(V,cmap='gray')"
   ]
  },
  {
   "cell_type": "markdown",
   "metadata": {},
   "source": [
    "### Extract Deterministic Policy\n",
    "\n",
    "Selects the best action based on the highest state-action value"
   ]
  },
  {
   "cell_type": "code",
   "execution_count": 28,
   "metadata": {},
   "outputs": [],
   "source": [
    "policy = np.zeros_like(V)\n",
    "\n",
    "for state, region in np.ndenumerate(submarine.maze):\n",
    "    best_action = None\n",
    "    best_action_val = -float(\"inf\")\n",
    "    for action in range(submarine.num_actions):\n",
    "        next_state = get_transition(state, action)\n",
    "        next_state_val = V[next_state[0]][next_state[1]]\n",
    "        action_val = get_reward(next_state)\n",
    "        total_val = action_val + next_state_val\n",
    "        if total_val  > best_action_val:\n",
    "            best_action_val = total_val\n",
    "            best_action = action\n",
    "    policy[state[0]][state[1]] = best_action  "
   ]
  },
  {
   "cell_type": "markdown",
   "metadata": {},
   "source": [
    "### Test a few trajectories\n",
    "\n",
    "Visulise some trajectories from a few different initial points in the environment."
   ]
  },
  {
   "cell_type": "code",
   "execution_count": 29,
   "metadata": {},
   "outputs": [
    {
     "name": "stderr",
     "output_type": "stream",
     "text": [
      "/Users/vesko/anaconda3/envs/jupyter/lib/python3.6/site-packages/matplotlib/figure.py:418: UserWarning: matplotlib is currently using a non-GUI backend, so cannot show the figure\n",
      "  \"matplotlib is currently using a non-GUI backend, \"\n"
     ]
    },
    {
     "data": {
      "text/plain": [
       "<matplotlib.figure.Figure at 0x1713e87828>"
      ]
     },
     "metadata": {},
     "output_type": "display_data"
    }
   ],
   "source": [
    "def viz_trajectory(start_from):\n",
    "    submarine.init_state = start_from\n",
    "    submarine._reset()\n",
    "    state = submarine.init_state\n",
    "    indx = 0\n",
    "    while state not in submarine.goal_states:\n",
    "        submarine._step(policy[tuple(state)])\n",
    "        fig = submarine._render()\n",
    "        state = submarine.state\n",
    "\n",
    "        if indx > 1000:\n",
    "            print(\"Max Iteration Limit Hit!\")\n",
    "            break\n",
    "        indx += 1\n",
    "\n",
    "for i in [[16,2], [4,13], [3,16], [13,2]]:\n",
    "    viz_trajectory(i)"
   ]
  },
  {
   "cell_type": "code",
   "execution_count": 30,
   "metadata": {},
   "outputs": [],
   "source": [
    "# submarine.init_state = [16,2] #[3,16] #[13,2] [4,13]\n",
    "# submarine._reset()\n",
    "# state = submarine.init_state\n",
    "# indx = 0\n",
    "# while state not in submarine.goal_states:\n",
    "#     submarine._step(policy[tuple(state)])\n",
    "#     fig = submarine._render()\n",
    "#     state = submarine.state\n",
    "    \n",
    "#     if indx > 1000:\n",
    "#         print(\"Max Iteration Limit Hit!\")\n",
    "#         break\n",
    "#     indx += 1\n",
    "# anime = submarine._get_video(interval=200, gif_path='value_iter.mp4').to_html5_video()\n",
    "# HTML(anime)"
   ]
  },
  {
   "cell_type": "code",
   "execution_count": 31,
   "metadata": {},
   "outputs": [],
   "source": [
    "# # Trajectories can also be visualied via the simulate function \n",
    "# # (note: function buggy on some systems; needs to be run thrice. )\n",
    "# submarine.policy = policy\n",
    "# HTML(simulate(submarine, [3,1]))"
   ]
  },
  {
   "cell_type": "markdown",
   "metadata": {},
   "source": [
    "### Final policy"
   ]
  },
  {
   "cell_type": "code",
   "execution_count": 32,
   "metadata": {},
   "outputs": [
    {
     "data": {
      "text/plain": [
       "array([['↓', '↓', '↓', '↓', '↓', '↓', '↓', '↓', '↓', '↓', '↓', '↓', '↓', '↓', '↓', '↓', '↓', '↓', '↓'],\n",
       "       ['↓', '↓', '↓', '↓', '↓', '↓', '↓', '↓', '↓', '↓', '↓', '↓', '↓', '↓', '↓', '↓', '↓', '↓', '↓'],\n",
       "       ['→', '→', '→', '→', '→', '→', '↓', '↓', '↓', '↓', '↓', '↓', '↓', '↓', '↓', '↓', '↓', '↓', '←'],\n",
       "       ['→', '↓', '↓', 'X', 'X', 'X', '→', '→', '→', '→', '→', '→', '↓', '↓', '↓', '↓', '↓', '↓', '←'],\n",
       "       ['→', '↓', '↓', 'X', 'X', 'X', '↓', '↓', '↓', 'X', 'X', 'X', '→', '→', '→', '→', '↓', '↓', '←'],\n",
       "       ['→', '↓', '↓', 'X', 'X', 'X', '↓', '↓', '↓', 'X', 'X', 'X', '↓', 'X', 'X', 'X', '↓', '↓', '←'],\n",
       "       ['→', '↓', '↓', '↓', '↓', '↓', '↓', '↓', '↓', 'X', 'X', 'X', '↓', 'X', 'X', 'X', '↓', '↓', '←'],\n",
       "       ['→', '→', '→', '→', '→', '→', '→', '→', '→', '→', '→', '→', '↓', 'X', 'X', 'X', '↓', '↓', '←'],\n",
       "       ['→', '→', '→', '→', '→', '→', '→', '→', '→', '→', '→', '→', '→', '→', '↓', '↓', '↓', '↓', '←'],\n",
       "       ['→', '→', '→', '→', '→', '→', '→', '→', '→', '→', '→', '→', '→', '→', '→', '↓', '↓', '↓', '←'],\n",
       "       ['→', '↑', 'X', 'X', 'X', '→', '→', '→', '→', '→', '→', '→', '→', '→', '→', '↓', '↓', '↓', '←'],\n",
       "       ['→', '↑', 'X', 'X', 'X', '→', '→', '→', '→', '→', '→', '→', '→', '→', '→', '→', '→', '⬤', '←'],\n",
       "       ['→', '↓', 'X', 'X', 'X', '→', '→', '→', '→', '→', '→', '→', '→', '↑', '↑', 'X', 'X', 'X', '↑'],\n",
       "       ['→', '→', '→', '→', '→', '→', '→', '→', '→', '→', '→', '→', '↑', '↑', '↑', 'X', 'X', 'X', '↑'],\n",
       "       ['→', '→', '↑', 'X', 'X', 'X', '→', '→', '→', '→', '→', '↑', '↑', '↑', '↑', 'X', 'X', 'X', '↑'],\n",
       "       ['→', '→', '↑', 'X', 'X', 'X', '→', '→', '→', '→', '↑', '↑', '↑', '↑', '↑', '←', '←', '←', '←'],\n",
       "       ['→', '→', '↑', 'X', 'X', 'X', '→', '→', '→', '→', '↑', '↑', '↑', '↑', '↑', '↑', '↑', '↑', '←'],\n",
       "       ['→', '→', '→', '→', '→', '→', '→', '→', '→', '→', '→', '→', '→', '↑', '↑', '↑', '↑', '↑', '←'],\n",
       "       ['→', '↑', '↑', '↑', '↑', '↑', '↑', '↑', '↑', '↑', '↑', '↑', '↑', '↑', '↑', '↑', '↑', '↑', '↑']],\n",
       "      dtype='<U1')"
      ]
     },
     "execution_count": 32,
     "metadata": {},
     "output_type": "execute_result"
    }
   ],
   "source": [
    "draw_policy(submarine, policy, show_sky_edge=False, show_unchartered=False)"
   ]
  },
  {
   "cell_type": "code",
   "execution_count": 20,
   "metadata": {},
   "outputs": [
    {
     "data": {
      "text/plain": [
       "array([['·', '·', '·', '·', '·', '·', '·', '·', '·', '·', '·', '·', '·', '·', '·', '·', '·', '·', '·'],\n",
       "       ['·', '·', '·', '·', '·', '·', '·', '·', '·', '·', '·', '·', '·', '·', '·', '·', '·', '·', '·'],\n",
       "       ['·', '→', '→', '→', '→', '→', '↓', '↓', '↓', '↓', '↓', '↓', '↓', '↓', '↓', '↓', '↓', '↓', '·'],\n",
       "       ['·', '↓', '↓', 'X', 'X', 'X', '→', '→', '→', '→', '→', '→', '↓', '↓', '↓', '↓', '↓', '↓', '·'],\n",
       "       ['·', '↓', '↓', 'X', 'X', 'X', '↓', '↓', '↓', 'X', 'X', 'X', '→', '→', '→', '→', '↓', '↓', '·'],\n",
       "       ['·', '↓', '↓', 'X', 'X', 'X', '↓', '↓', '↓', 'X', 'X', 'X', '↓', 'X', 'X', 'X', '↓', '↓', '·'],\n",
       "       ['·', '↓', '↓', '↓', '↓', '↓', '↓', '↓', '↓', 'X', 'X', 'X', '↓', 'X', 'X', 'X', '↓', '↓', '·'],\n",
       "       ['·', '→', '→', '→', '→', '→', '→', '→', '→', '→', '→', '→', '↓', 'X', 'X', 'X', '↓', '↓', '·'],\n",
       "       ['·', '→', '→', '→', '→', '→', '→', '→', '→', '→', '→', '→', '→', '→', '↓', '↓', '↓', '↓', '·'],\n",
       "       ['·', '→', '→', '→', '→', '→', '→', '→', '→', '→', '→', '→', '→', '→', '→', '↓', '↓', '↓', '·'],\n",
       "       ['·', '↑', 'X', 'X', 'X', '→', '→', '→', '→', '→', '→', '→', '→', '→', '→', '↓', '↓', '↓', '·'],\n",
       "       ['·', '↑', 'X', 'X', 'X', '→', '→', '→', '→', '→', '→', '→', '→', '→', '→', '→', '→', '⬤', '·'],\n",
       "       ['·', '↓', 'X', 'X', 'X', '→', '→', '→', '→', '→', '→', '→', '→', '↑', '↑', 'X', 'X', 'X', '·'],\n",
       "       ['·', '→', '→', '→', '→', '→', '→', '→', '→', '→', '→', '→', '↑', '↑', '↑', 'X', 'X', 'X', '·'],\n",
       "       ['·', '→', '↑', 'X', 'X', 'X', '→', '→', '→', '→', '→', '↑', '↑', '↑', '↑', 'X', 'X', 'X', '·'],\n",
       "       ['·', '→', '↑', 'X', 'X', 'X', '→', '→', '→', '→', '↑', '↑', '↑', '↑', '↑', '←', '←', '←', '·'],\n",
       "       ['·', '→', '↑', 'X', 'X', 'X', '→', '→', '→', '→', '↑', '↑', '↑', '↑', '↑', '↑', '↑', '↑', '·'],\n",
       "       ['·', '→', '→', '→', '→', '→', '→', '→', '→', '→', '→', '→', '→', '↑', '↑', '↑', '↑', '↑', '·'],\n",
       "       ['·', '·', '·', '·', '·', '·', '·', '·', '·', '·', '·', '·', '·', '·', '·', '·', '·', '·', '·']],\n",
       "      dtype='<U1')"
      ]
     },
     "execution_count": 20,
     "metadata": {},
     "output_type": "execute_result"
    }
   ],
   "source": [
    "draw_policy(submarine, policy, show_unchartered=False)"
   ]
  },
  {
   "cell_type": "markdown",
   "metadata": {},
   "source": [
    "## Question 1.3: Policy Evaluation\n",
    "    \n",
    "Define a function that computes the state-value function $V^\\pi$ on this environment when given a random policy $\\pi$."
   ]
  },
  {
   "cell_type": "code",
   "execution_count": 69,
   "metadata": {},
   "outputs": [],
   "source": [
    "def policy_eval(V):\n",
    "    V_new = V\n",
    "    for state, region in np.ndenumerate(submarine.maze):\n",
    "        action = policy[state]\n",
    "        possible_next_states = get_transition(state, action, probabilistic=True)\n",
    "        total_val = 0\n",
    "        for next_state in possible_next_states:\n",
    "            next_state_val = DISCOUNT * V[next_state[0][0]][next_state[0][1]]\n",
    "            action_val = get_reward(next_state[0])\n",
    "            total_val += next_state[1] * (action_val + next_state_val) # next_state[1] = p(next_state|state,action)\n",
    "        V_new[state[0]][state[1]] = total_val     \n",
    "    return V_new"
   ]
  },
  {
   "cell_type": "markdown",
   "metadata": {},
   "source": [
    "## Question 1.4: Policy Iteration\n",
    "Apply policy iteration to solve the submarine navigation task. \n",
    "- In what ways are the results of policy iteration different from those of value iteration?"
   ]
  },
  {
   "cell_type": "code",
   "execution_count": 70,
   "metadata": {},
   "outputs": [],
   "source": [
    "def policy_improv(policy, V):\n",
    "    \"\"\" Policy improvement. \"\"\"\n",
    "    for s, region in np.ndenumerate(submarine.maze):\n",
    "        s_best_val = -float(\"inf\")\n",
    "        for act in range(submarine.num_actions): # iterate actions, [0,1,2,3]\n",
    "            possible_next_states = get_transition(s, act, probabilistic=True)\n",
    "            s_act_val = 0\n",
    "            for next_state in possible_next_states:\n",
    "                next_state_val = DISCOUNT * V[next_state[0][0]][next_state[0][1]]\n",
    "                action_val = get_reward(next_state[0])\n",
    "                s_act_val += next_state[1] * (action_val + next_state_val)\n",
    "            if s_act_val > s_best_val:\n",
    "                s_best_val = s_act_val\n",
    "                policy[s[0]][s[1]] = act\n",
    "    return policy"
   ]
  },
  {
   "cell_type": "code",
   "execution_count": 71,
   "metadata": {},
   "outputs": [],
   "source": [
    "policy = np.zeros_like(V)\n",
    "V = np.zeros_like(submarine.maze)\n",
    "for i in range(100):\n",
    "    V = policy_eval(V)\n",
    "    policy = policy_improv(policy, V)"
   ]
  },
  {
   "cell_type": "code",
   "execution_count": 72,
   "metadata": {},
   "outputs": [
    {
     "data": {
      "text/plain": [
       "array([['·', '·', '·', '·', '·', '·', '·', '·', '·', '·', '·', '·', '·', '·', '·', '·', '·', '·', '·'],\n",
       "       ['·', '·', '·', '·', '·', '·', '·', '·', '·', '·', '·', '·', '·', '·', '·', '·', '·', '·', '·'],\n",
       "       ['·', '→', '→', '→', '→', '→', '↓', '↓', '↓', '↓', '↓', '↓', '↓', '↓', '↓', '↓', '↓', '↓', '·'],\n",
       "       ['·', '↓', '↓', 'X', 'X', 'X', '→', '→', '→', '→', '→', '→', '↓', '↓', '↓', '↓', '↓', '↓', '·'],\n",
       "       ['·', '↓', '↓', 'X', 'X', 'X', '↓', '↓', '↓', 'X', 'X', 'X', '→', '→', '→', '→', '↓', '↓', '·'],\n",
       "       ['·', '↓', '↓', 'X', 'X', 'X', '↓', '↓', '↓', 'X', 'X', 'X', '↓', 'X', 'X', 'X', '↓', '↓', '·'],\n",
       "       ['·', '↓', '↓', '↓', '↓', '↓', '↓', '↓', '↓', 'X', 'X', 'X', '↓', 'X', 'X', 'X', '↓', '↓', '·'],\n",
       "       ['·', '→', '→', '→', '→', '→', '→', '→', '→', '→', '→', '→', '↓', 'X', 'X', 'X', '↓', '↓', '·'],\n",
       "       ['·', '→', '→', '→', '→', '→', '→', '→', '→', '→', '→', '→', '→', '→', '↓', '↓', '↓', '↓', '·'],\n",
       "       ['·', '→', '→', '→', '→', '→', '→', '→', '→', '→', '→', '→', '→', '→', '→', '↓', '↓', '↓', '·'],\n",
       "       ['·', '↑', 'X', 'X', 'X', '→', '→', '→', '→', '→', '→', '→', '→', '→', '→', '↓', '↓', '↓', '·'],\n",
       "       ['·', '↑', 'X', 'X', 'X', '→', '→', '→', '→', '→', '→', '→', '→', '→', '→', '→', '→', '⬤', '·'],\n",
       "       ['·', '↓', 'X', 'X', 'X', '→', '→', '→', '→', '→', '→', '→', '→', '↑', '↑', 'X', 'X', 'X', '·'],\n",
       "       ['·', '→', '→', '→', '→', '→', '→', '→', '→', '→', '→', '→', '↑', '↑', '↑', 'X', 'X', 'X', '·'],\n",
       "       ['·', '↑', '↑', 'X', 'X', 'X', '→', '→', '→', '→', '→', '↑', '↑', '↑', '↑', 'X', 'X', 'X', '·'],\n",
       "       ['·', '↑', '↑', 'X', 'X', 'X', '→', '→', '→', '→', '↑', '↑', '↑', '↑', '↑', '←', '←', '←', '·'],\n",
       "       ['·', '↑', '↑', 'X', 'X', 'X', '→', '→', '→', '→', '→', '↑', '↑', '↑', '↑', '↑', '↑', '↑', '·'],\n",
       "       ['·', '→', '→', '→', '→', '→', '→', '→', '→', '→', '→', '→', '→', '↑', '↑', '↑', '↑', '↑', '·'],\n",
       "       ['·', '·', '·', '·', '·', '·', '·', '·', '·', '·', '·', '·', '·', '·', '·', '·', '·', '·', '·']],\n",
       "      dtype='<U1')"
      ]
     },
     "execution_count": 72,
     "metadata": {},
     "output_type": "execute_result"
    }
   ],
   "source": [
    "draw_policy(submarine, policy, show_unchartered=False)"
   ]
  },
  {
   "cell_type": "markdown",
   "metadata": {},
   "source": [
    "## Question 1.5: Hyper-parameters\n",
    "\n",
    "For both policy and value iteration:\n",
    "- How does varying the discount factor $\\gamma$ affect the calculated policy? \n",
    "    - Repeat the same experiment with at least three different settings of a discount factor in order to make your argument.\n",
    "- Given the insights from your experiment above, suggest a suitable strategy for setting an appropriate discount rate?"
   ]
  },
  {
   "cell_type": "code",
   "execution_count": null,
   "metadata": {},
   "outputs": [],
   "source": []
  },
  {
   "cell_type": "code",
   "execution_count": null,
   "metadata": {},
   "outputs": [],
   "source": []
  },
  {
   "cell_type": "code",
   "execution_count": null,
   "metadata": {},
   "outputs": [],
   "source": []
  },
  {
   "cell_type": "markdown",
   "metadata": {},
   "source": [
    "## Question 1.6: Noisy trigger\n",
    "\n",
    "The mines now have a 50% chance of blowing up if you are within their direct vicinity (i.e. on their border). \n",
    "\n",
    "How does this affect your policy? \n",
    "\n",
    "Implement this and justify your answer based on the results."
   ]
  },
  {
   "cell_type": "code",
   "execution_count": null,
   "metadata": {},
   "outputs": [],
   "source": []
  },
  {
   "cell_type": "code",
   "execution_count": null,
   "metadata": {},
   "outputs": [],
   "source": []
  },
  {
   "cell_type": "markdown",
   "metadata": {},
   "source": [
    "# Question 2:\n",
    "*Remark: This second question need not be implemented in the notebook, in the same way you\n",
    "wrote programs for the first question. Instead, we expect to see a complete problem formulation,\n",
    "with suitable expressions and graphs, and an explanation of the solution procedure in terms of those\n",
    "expressions. The notebook only provides a means by which to explore the question; this question should be completed by hand.*\n",
    "\n",
    "\n",
    "Now consider two additions to the above problem specification, that are common in realistic versions\n",
    "of this problem:\n",
    "1. The agent must include within the costs, the ides of navigability - describing the fact that\n",
    "some parts of a given map are easier to travel through than others (typically, due to the ‘diffi-\n",
    "culty’ of performing low-level control with respect to the terrain features found at that depth).\n",
    "One way to model this would be to include a distribution of costs over the given terrain map.\n",
    "By re-writing your complete problem specification, explain how you will incorporate this\n",
    "feature in your modelling.\n",
    "2. The agents in the environment, previously viewed as static obstacles defining where you can\n",
    "and can not traverse, could have their own dynamics. For instance, one of the mines could be\n",
    "an active craft with its own motion policy. Assuming that you can observe the current position\n",
    "of this active craft through a noisy channel (e.g., by interpretation of sonar reflections), pose\n",
    "your - now interactive - motion planning problem in Bayesian terms and explain how your\n",
    "solution strategy might need to be altered.\n"
   ]
  },
  {
   "cell_type": "code",
   "execution_count": null,
   "metadata": {},
   "outputs": [],
   "source": []
  }
 ],
 "metadata": {
  "kernelspec": {
   "display_name": "Python 3",
   "language": "python",
   "name": "python3"
  },
  "language_info": {
   "codemirror_mode": {
    "name": "ipython",
    "version": 3
   },
   "file_extension": ".py",
   "mimetype": "text/x-python",
   "name": "python",
   "nbconvert_exporter": "python",
   "pygments_lexer": "ipython3",
   "version": "3.6.3"
  }
 },
 "nbformat": 4,
 "nbformat_minor": 2
}
