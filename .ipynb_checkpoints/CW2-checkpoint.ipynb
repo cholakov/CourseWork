{
 "cells": [
  {
   "cell_type": "code",
   "execution_count": 1,
   "metadata": {},
   "outputs": [],
   "source": [
    "%matplotlib inline\n",
    "\n",
    "import matplotlib\n",
    "# matplotlib.use('TkAgg')  # avoid non-GUI warning for matplotlib\n",
    "import matplotlib.pyplot as plt\n",
    "import numpy as np\n",
    "\n",
    "from IPython.display import display, HTML\n",
    "from itertools import product as cartesian_product\n",
    "from skimage.draw import circle, circle_perimeter\n",
    "\n",
    "from utils import *\n",
    "import pandas as pd\n",
    "\n",
    "np.set_printoptions(linewidth=250,precision=2)\n",
    "\n",
    "\n",
    "# https://stackoverflow.com/questions/37370015/what-is-the-difference-between-value-iteration-and-policy-iteration\n",
    "# sutton terminal state"
   ]
  },
  {
   "cell_type": "markdown",
   "metadata": {},
   "source": [
    "## Environment Definition"
   ]
  },
  {
   "cell_type": "code",
   "execution_count": 2,
   "metadata": {},
   "outputs": [],
   "source": [
    "class MazeGenerator(object):\n",
    "    def __init__(self):\n",
    "        self.maze = None\n",
    "    \n",
    "    def init_end_states(self):\n",
    "        \"\"\"Get start and end goals\"\"\"\n",
    "        init_state = [3,1]\n",
    "        goal_states = [[11,17]]\n",
    "        return init_state, goal_states\n",
    "        \n",
    "    def get_maze(self):\n",
    "        return self.maze\n",
    "\n",
    "\n",
    "class SimpleMazeGenerator(MazeGenerator):\n",
    "    def __init__(self, maze):\n",
    "        super().__init__()\n",
    "        \n",
    "        self.maze = maze"
   ]
  },
  {
   "cell_type": "code",
   "execution_count": 3,
   "metadata": {},
   "outputs": [],
   "source": [
    "#Region ID's (also related to the region colours, more in utils.py - line 113)\n",
    "regions = {'water':6, 'edge':7, 'sky':8, 'mine':4, 'uncharted':5}\n",
    "\n",
    "env_size = 19\n",
    "maze_array = np.zeros([env_size,env_size]) + regions['water']\n",
    "\n",
    "#Boundary\n",
    "maze_array[:,0] = regions['edge']\n",
    "maze_array[:,-1] = regions['edge']\n",
    "maze_array[-1,:] = regions['edge']\n",
    "maze_array[0:2,:] = regions['sky']\n",
    "\n",
    "#Bombs\n",
    "maze_array[circle(11,3,2)] = regions['mine']\n",
    "maze_array[circle(6,14,2)] = regions['mine']\n",
    "maze_array[circle(15,4,2)] = regions['mine']\n",
    "maze_array[circle(5,10,2)] = regions['mine']\n",
    "maze_array[circle(13,16,2)] = regions['mine']\n",
    "maze_array[circle(4,4,2)] = regions['mine']\n",
    "\n",
    "#Unmapped territory\n",
    "maze_array[circle(12,10,5)] = regions['uncharted']"
   ]
  },
  {
   "cell_type": "code",
   "execution_count": 4,
   "metadata": {},
   "outputs": [
    {
     "name": "stdout",
     "output_type": "stream",
     "text": [
      "\u001b[33mWARN: gym.spaces.Box autodetected dtype as <class 'numpy.float32'>. Please provide explicit dtype.\u001b[0m\n"
     ]
    }
   ],
   "source": [
    "#Generate the underwater maze environment\n",
    "maze = SimpleMazeGenerator(maze_array)\n",
    "submarine = MazeEnv(maze, render_trace=True)"
   ]
  },
  {
   "cell_type": "markdown",
   "metadata": {},
   "source": [
    "## Brief Introduction"
   ]
  },
  {
   "cell_type": "code",
   "execution_count": 5,
   "metadata": {},
   "outputs": [
    {
     "data": {
      "text/plain": [
       "<matplotlib.image.AxesImage at 0x10e46fcf8>"
      ]
     },
     "execution_count": 5,
     "metadata": {},
     "output_type": "execute_result"
    },
    {
     "data": {
      "image/png": "[encoded data removed]",
      "text/plain": [
       "<matplotlib.figure.Figure at 0x10b66a908>"
      ]
     },
     "metadata": {},
     "output_type": "display_data"
    }
   ],
   "source": [
    "# A view of the environment\n",
    "\n",
    "#reset(), resets the environment back to it's initial conditions and returns a view of it\n",
    "snapshot = submarine._reset() \n",
    "\n",
    "plt.imshow(snapshot, cmap=submarine.cmap, norm=submarine.norm)"
   ]
  },
  {
   "cell_type": "code",
   "execution_count": 6,
   "metadata": {},
   "outputs": [
    {
     "name": "stdout",
     "output_type": "stream",
     "text": [
      " Number of Actions :  4 \n",
      " Action ID: Up, Down, Left, Right =  [0, 1, 2, 3] \n",
      " Goal states:  [[11, 17]] \n",
      " Maze size:  (19, 19) \n",
      " List of all states in the environment:  [(0, 0), (0, 1), (0, 2), (0, 3), (0, 4)] ...\n"
     ]
    }
   ],
   "source": [
    "# Some available information from the environment\n",
    "print(  \" Number of Actions : \", submarine.num_actions,\n",
    "      \"\\n Action ID: Up, Down, Left, Right = \",submarine.all_actions,\n",
    "      \"\\n Goal states: \", submarine.goal_states,\n",
    "      \"\\n Maze size: \", submarine.maze_size,\n",
    "      \"\\n List of all states in the environment: \", submarine.valid_states[0:5], \"...\")"
   ]
  },
  {
   "cell_type": "code",
   "execution_count": 7,
   "metadata": {
    "slideshow": {
     "slide_type": "-"
    }
   },
   "outputs": [
    {
     "data": {
      "text/plain": [
       "<matplotlib.image.AxesImage at 0x1714512d30>"
      ]
     },
     "execution_count": 7,
     "metadata": {},
     "output_type": "execute_result"
    },
    {
     "data": {
      "image/png": "[encoded data removed]",
      "text/plain": [
       "<matplotlib.figure.Figure at 0x10b66a748>"
      ]
     },
     "metadata": {},
     "output_type": "display_data"
    }
   ],
   "source": [
    "# Unlike the traditional gym environment, each call to the step() function executes an \n",
    "# action and takes a step through the dynamics of the environment.\n",
    "# The resulting environmental observation is returned. \n",
    "# Note: This function updates the state of the executing agent.\n",
    "\n",
    "\n",
    "submarine._step(1)\n",
    "submarine._step(1)\n",
    "submarine._step(1)\n",
    "snapshot = submarine._step(1)\n",
    "plt.imshow(snapshot, cmap=submarine.cmap, norm=submarine.norm)"
   ]
  },
  {
   "cell_type": "code",
   "execution_count": 8,
   "metadata": {},
   "outputs": [
    {
     "data": {
      "text/plain": [
       "<matplotlib.image.AxesImage at 0x1714994c18>"
      ]
     },
     "execution_count": 8,
     "metadata": {},
     "output_type": "execute_result"
    },
    {
     "data": {
      "image/png": "[encoded data removed]",
      "text/plain": [
       "<matplotlib.figure.Figure at 0x17145018d0>"
      ]
     },
     "metadata": {},
     "output_type": "display_data"
    }
   ],
   "source": [
    "submarine._step(3)\n",
    "submarine._step(3)\n",
    "snapshot = submarine._step(3)\n",
    "plt.imshow(snapshot, cmap=submarine.cmap, norm=submarine.norm)"
   ]
  },
  {
   "cell_type": "code",
   "execution_count": 9,
   "metadata": {},
   "outputs": [
    {
     "data": {
      "text/plain": [
       "[0, 1]"
      ]
     },
     "execution_count": 9,
     "metadata": {},
     "output_type": "execute_result"
    }
   ],
   "source": [
    "# _next_state(current_state,action) takes a state and an action as an input and \n",
    "# returns the resulting state.\n",
    "# Note: This function does not update the state of the executing agent.\n",
    "submarine._next_state((0,0),3)"
   ]
  },
  {
   "cell_type": "markdown",
   "metadata": {},
   "source": [
    "# CourseWork\n",
    "\n",
    "You are to design an agent that will be in charge of the navigation of a submarine, through a\n",
    "minefield, towards a goal.\n",
    "\n",
    "Navigating through uncharted territory can be dangerous, which we will model by applying some damage to the submarine. Additionally, there is some uncertainty in the execution of actions when moving through uncharted territory. Currents are strong and there is a 20% chance that the submarine will diverge away from its path during execution. For example, given that our current state is (12,10) within the uncharted territory, and we execute a down action; there is an 80% chance it will go down to (13,10), but also a 10% chance that it will go left to (12,9), and another 10% chance it will go right to (12,11).\n",
    "\n",
    "\n",
    "Hitting a mine will lead to the destruction of the submarine and boundary regions marked **edge** or **sky** cannot be traversed.  Your task is to develop a strategy for this agent (plotted as the *blue* dot) to safely navigate towards the goal (plotted as the *green* dot).\n",
    "\n",
    "You are to do this using the principles of Dynamic Programming. In particular, in this exercise,\n",
    "you will implement the methods of Policy and Value Iteration. For all of these questions, please use\n",
    "the provided visualisation functions to plot your policies and their associated trajectories. Include\n",
    "concise comments within the notebook to highlight any interesting observations to support your\n",
    "answers"
   ]
  },
  {
   "cell_type": "markdown",
   "metadata": {},
   "source": [
    "## Question 1.1 : Reward and Transition Functions"
   ]
  },
  {
   "cell_type": "markdown",
   "metadata": {},
   "source": [
    "Define suitable reward and transition functions for the submarine environment. This is a key task for you as the\n",
    "designer of this agent. \n",
    "\n",
    "The reward function specifies a scalar reward for every state in the environment (in accordance to the coursework description above) and the transition function determines the next *probable* state, $s'$, reached when an action $a$ is taken from state $s$."
   ]
  },
  {
   "cell_type": "markdown",
   "metadata": {},
   "source": [
    "**Student Writeup: Reasoning and Assumptions**\n",
    "\n",
    "In writing the Transition and the Reward functions, I am making the decision to assign the same amount of reward the movements inside unchartered waters as in normal waters. I will model the uncertainty of being in unchartered waters through probabilistic transitions – the actions of the submarine crew do not always yield the expected results and the vessel occasionally diverges due to strong currents. Of course, in real world scenarios, the unchartered territory can hide extra dangers. If that's the case get_reward can be easily modified to assign numeric damage to simulations inside the unchartered areas.\n",
    "\n",
    "The reason why I am deciding not to assign explicit reward damage is because I want to obsereve the effect of probabilistic tranisitions. My expectation is that the submarine should learn to avoid squares which are 1. unchartered, and 2. in the viscinity of mines because the submarine can be sent onto the mine and there is nothing the crew can do about that. Let's see if that's what happens."
   ]
  },
  {
   "cell_type": "code",
   "execution_count": 10,
   "metadata": {},
   "outputs": [],
   "source": [
    "np.random.seed(2341)"
   ]
  },
  {
   "cell_type": "raw",
   "metadata": {},
   "source": [
    "regions = {'water':6, 'edge':7, 'sky':8, 'mine':4, 'uncharted':5}\n",
    "maze_array[y,x]\n",
    "Action ID: Up, Down, Left, Right =  [0, 1, 2, 3] \n",
    "\n",
    "0 Up\n",
    "1 Down\n",
    "2 Left\n",
    "3 Right"
   ]
  },
  {
   "cell_type": "markdown",
   "metadata": {},
   "source": [
    "### Transition"
   ]
  },
  {
   "cell_type": "code",
   "execution_count": 17,
   "metadata": {},
   "outputs": [],
   "source": [
    "def bounds_check(state, direction): \n",
    "    \"\"\"\n",
    "    This is a helper function used by get_transition.\n",
    "    \n",
    "    Given a direction of movement, this method always returns the transition state \n",
    "    as determined by _next_state(), unless the result falls outside the \n",
    "    bounds of the environment. In that case, the method returns the same state.\n",
    "\n",
    "    \"\"\"\n",
    "    goalState = submarine._next_state(state, direction)\n",
    "    if \\\n",
    "    (goalState[0] < 0) or \\\n",
    "    (goalState[1] < 0) or \\\n",
    "    (goalState[0] > env_size - 1) or \\\n",
    "    (goalState[1] > env_size - 1):\n",
    "        return state\n",
    "    else:\n",
    "        return goalState"
   ]
  },
  {
   "cell_type": "code",
   "execution_count": 18,
   "metadata": {},
   "outputs": [],
   "source": [
    "def get_transition(currState, action, probabilistic=False):\n",
    "    \"\"\"\n",
    "    The Transition Function returns the next state given the \n",
    "    current state and an action.\n",
    "    \n",
    "    Transitions can be either probabilistic or deterministic. In general,\n",
    "    we always want to set 'probabilistic = True' when we do Value Iteration \n",
    "    and Policy Iteration to model the uncertainty when navigating through \n",
    "    unchartered waters. 'probabilistic = False' can be useful sometimes, \n",
    "    for example, to extract one best policy after we're done with Value \n",
    "    Iteration (Q 1.2).\n",
    "    \n",
    "    Note that if currState is absorbing (a mine or the goal), we transition \n",
    "    to the same state in perpetuity.\n",
    "    \n",
    "    \"\"\"\n",
    "    \n",
    "    # Check type of currState (mine, water, etc..)\n",
    "    currRegion = maze_array[currState[0]][currState[1]] \n",
    "    \n",
    "    # Check if currState is absorbing\n",
    "    absorbing = False\n",
    "    if currRegion == 4 or currState in submarine.goal_states:\n",
    "        absorbing = True\n",
    "    \n",
    "    if probabilistic:\n",
    "        if absorbing:\n",
    "            return [(currState, 1.0)]\n",
    "        possible_next_states = []\n",
    "        if currRegion == 5: # unchartered waters\n",
    "            possible_next_states.append((bounds_check(currState, action), 0.8))\n",
    "            if action in (2,3):\n",
    "                possible_next_states.append((bounds_check(currState, 0), 0.1))\n",
    "                possible_next_states.append((bounds_check(currState, 1), 0.1))\n",
    "            elif action in (0,1):\n",
    "                possible_next_states.append((bounds_check(currState, 2), 0.1))\n",
    "                possible_next_states.append((bounds_check(currState, 3), 0.1))\n",
    "        else:\n",
    "            possible_next_states.append((bounds_check(currState, action), 1))\n",
    "        \n",
    "        return possible_next_states\n",
    "        # Sample: [([11, 10], 0.8), ([10, 9], 0.1), ([10, 11], 0.1)] \n",
    "    else:\n",
    "        if absorbing:\n",
    "            return currState\n",
    "        return bounds_check(currState, action)\n",
    "        # Sample [3, 4]"
   ]
  },
  {
   "cell_type": "markdown",
   "metadata": {},
   "source": [
    "### Reward"
   ]
  },
  {
   "cell_type": "code",
   "execution_count": 19,
   "metadata": {},
   "outputs": [],
   "source": [
    "def calculate_reward(noisy=False):\n",
    "    \"\"\"\n",
    "    Returns the reward which an agent should be given when after it\n",
    "    transitions to a state.\n",
    "    \n",
    "    The method returns a dictionary object, R. The keys are\n",
    "    tuples of all (x,y) coordinates of the environment and the \n",
    "    respective value is the reward an actors receives when it \n",
    "    transitions to that state.\n",
    "    \n",
    "    The flag 'noisy' is useful for Q 1.6 where mines have a 50% \n",
    "    chance of blowing up when the actors is in their direct vicinity.\n",
    "    When 'noise = True' the reward for squares neighboring mines is \n",
    "    calculated as the expected value: \n",
    "    \n",
    "    0.5*(normal value of square, i.e. water) + 0.5*(value of mine square).\n",
    "    \n",
    "    \"\"\"\n",
    "    reward = { \"goal\": 100,\n",
    "               \"mine\": -100,\n",
    "               \"edge\": -1,\n",
    "               \"water\": -1 }\n",
    "    \n",
    "    R = {}\n",
    "    \n",
    "    for state, region in np.ndenumerate(submarine.maze):\n",
    "        r = float()\n",
    "        \n",
    "        if list(state) in submarine.goal_states: # goal\n",
    "            r = reward['goal'] \n",
    "        elif region == 4: # mine\n",
    "            r = reward['mine'] \n",
    "        elif region in (7,8): # sky or edge\n",
    "            r = reward['edge'] \n",
    "        else: # water or unchartered\n",
    "            r = reward['water']\n",
    "          \n",
    "        if noisy:\n",
    "            # Check if mine in neighboring states\n",
    "            mine = False\n",
    "            for direction in range(submarine.num_actions):\n",
    "                neighbor = bounds_check(state, direction)\n",
    "                neighbor_type = maze_array[neighbor[0]][neighbor[1]] \n",
    "                if neighbor_type == 4: # mine\n",
    "                    mine = True\n",
    "            if mine:\n",
    "                r = (r + reward['mine'])*0.5\n",
    "        R[state] = r\n",
    "\n",
    "    return R"
   ]
  },
  {
   "cell_type": "markdown",
   "metadata": {},
   "source": [
    "## Question 1.2: Value Iteration\n",
    "\n",
    "\n",
    "Your first algorithmic task will be to apply value iteration to the solution of this navigation task, using the reward and transition functions you have devised in the previous section."
   ]
  },
  {
   "cell_type": "markdown",
   "metadata": {},
   "source": [
    "### Value Iteration"
   ]
  },
  {
   "cell_type": "code",
   "execution_count": 67,
   "metadata": {},
   "outputs": [],
   "source": [
    "DISCOUNT = 0.8\n",
    "R = calculate_reward()"
   ]
  },
  {
   "cell_type": "code",
   "execution_count": 68,
   "metadata": {},
   "outputs": [
    {
     "name": "stdout",
     "output_type": "stream",
     "text": [
      "Value iteration converged at iteration #81\n"
     ]
    }
   ],
   "source": [
    "def val_iteration(R):\n",
    "    V = np.zeros_like(submarine.maze)\n",
    "    V_sum = 0\n",
    "    for i in range(1000):\n",
    "        V_temp = V\n",
    "        for state, region in np.ndenumerate(submarine.maze):\n",
    "            if region == 4 or state in submarine.goal_states: # absorbing state\n",
    "                V_temp[state[0]][state[1]] = 0\n",
    "            else:                \n",
    "                curr_state_val = - float(\"inf\")\n",
    "                for action in range(submarine.num_actions):\n",
    "                    possible_next_states = get_transition(state, action, probabilistic=True)\n",
    "                    total_val = 0\n",
    "                    for next_state in possible_next_states:\n",
    "                        next_state_val = DISCOUNT * V[next_state[0][0]][next_state[0][1]]\n",
    "                        action_val = R[tuple(next_state[0])]\n",
    "                        total_val += next_state[1] * (action_val + next_state_val)\n",
    "                    if total_val > curr_state_val:\n",
    "                        curr_state_val = total_val\n",
    "                V_temp[state[0]][state[1]] = curr_state_val\n",
    "\n",
    "        V = V_temp\n",
    "\n",
    "        if (i % 10) == 0:\n",
    "            if np.abs(V.sum() - V_sum) < 1e-6:\n",
    "                print(f'Value iteration converged at iteration #{i+1:,}')\n",
    "                break\n",
    "            V_sum = V.sum()\n",
    "    return V\n",
    "\n",
    "V = val_iteration(R)"
   ]
  },
  {
   "cell_type": "code",
   "execution_count": 69,
   "metadata": {
    "scrolled": true
   },
   "outputs": [
    {
     "data": {
      "text/plain": [
       "<matplotlib.image.AxesImage at 0x1715c69438>"
      ]
     },
     "execution_count": 69,
     "metadata": {},
     "output_type": "execute_result"
    },
    {
     "data": {
      "image/png": "[encoded data removed]",
      "text/plain": [
       "<matplotlib.figure.Figure at 0x17158c5c88>"
      ]
     },
     "metadata": {},
     "output_type": "display_data"
    }
   ],
   "source": [
    "plt.imshow(V,cmap='gray')"
   ]
  },
  {
   "cell_type": "markdown",
   "metadata": {},
   "source": [
    "### Extract Deterministic Policy\n",
    "\n",
    "Selects the best action based on the highest state-action value"
   ]
  },
  {
   "cell_type": "code",
   "execution_count": 23,
   "metadata": {},
   "outputs": [],
   "source": [
    "def extract_policy(V, R):\n",
    "    policy = np.zeros_like(V)\n",
    "\n",
    "    for state, region in np.ndenumerate(submarine.maze):\n",
    "        best_action = None\n",
    "        best_action_val = -float(\"inf\")\n",
    "        for action in range(submarine.num_actions):\n",
    "            next_state = get_transition(state, action)\n",
    "            next_state_val = V[next_state[0]][next_state[1]]\n",
    "            action_val = R[tuple(next_state)]\n",
    "            total_val = action_val + next_state_val\n",
    "            if total_val  > best_action_val:\n",
    "                best_action_val = total_val\n",
    "                best_action = action\n",
    "        policy[state[0]][state[1]] = best_action  \n",
    "    return policy\n",
    "\n",
    "policy = extract_policy(V, R)"
   ]
  },
  {
   "cell_type": "markdown",
   "metadata": {},
   "source": [
    "### Test a few trajectories\n",
    "\n",
    "Visulise some trajectories from a few different initial points in the environment."
   ]
  },
  {
   "cell_type": "code",
   "execution_count": 18,
   "metadata": {},
   "outputs": [
    {
     "name": "stderr",
     "output_type": "stream",
     "text": [
      "/Users/vesko/anaconda3/envs/jupyter/lib/python3.6/site-packages/matplotlib/figure.py:418: UserWarning: matplotlib is currently using a non-GUI backend, so cannot show the figure\n",
      "  \"matplotlib is currently using a non-GUI backend, \"\n"
     ]
    },
    {
     "data": {
      "image/png": "[encoded data removed]",
      "text/plain": [
       "<matplotlib.figure.Figure at 0x111d59f98>"
      ]
     },
     "metadata": {},
     "output_type": "display_data"
    }
   ],
   "source": [
    "def viz_trajectory(start_from):\n",
    "    submarine.init_state = start_from\n",
    "    submarine._reset()\n",
    "    state = submarine.init_state\n",
    "    indx = 0\n",
    "    while state not in submarine.goal_states:\n",
    "        submarine._step(policy[tuple(state)])\n",
    "        fig = submarine._render()\n",
    "        state = submarine.state\n",
    "\n",
    "        if indx > 1000:\n",
    "            print(\"Max Iteration Limit Hit!\")\n",
    "            break\n",
    "        indx += 1\n",
    "\n",
    "for i in [[16,2], [4,13], [3,16], [13,2]]:\n",
    "    viz_trajectory(i)"
   ]
  },
  {
   "cell_type": "markdown",
   "metadata": {},
   "source": [
    "### Final policy"
   ]
  },
  {
   "cell_type": "code",
   "execution_count": 24,
   "metadata": {},
   "outputs": [
    {
     "data": {
      "text/plain": [
       "array([['·', '·', '·', '·', '·', '·', '·', '·', '·', '·', '·', '·', '·', '·', '·', '·', '·', '·', '·'],\n",
       "       ['·', '·', '·', '·', '·', '·', '·', '·', '·', '·', '·', '·', '·', '·', '·', '·', '·', '·', '·'],\n",
       "       ['·', '→', '→', '→', '→', '→', '↓', '↓', '↓', '↓', '↓', '↓', '↓', '↓', '↓', '↓', '↓', '↓', '·'],\n",
       "       ['·', '↓', '↓', 'X', 'X', 'X', '→', '→', '→', '→', '→', '→', '↓', '↓', '↓', '↓', '↓', '↓', '·'],\n",
       "       ['·', '↓', '↓', 'X', 'X', 'X', '↓', '↓', '↓', 'X', 'X', 'X', '→', '→', '→', '→', '↓', '↓', '·'],\n",
       "       ['·', '↓', '↓', 'X', 'X', 'X', '↓', '↓', '↓', 'X', 'X', 'X', '↓', 'X', 'X', 'X', '↓', '↓', '·'],\n",
       "       ['·', '↓', '↓', '↓', '↓', '↓', '↓', '↓', '↓', 'X', 'X', 'X', '↓', 'X', 'X', 'X', '↓', '↓', '·'],\n",
       "       ['·', '→', '→', '→', '→', '→', '→', '→', '→', '→', '→', '→', '↓', 'X', 'X', 'X', '↓', '↓', '·'],\n",
       "       ['·', '→', '→', '→', '→', '→', '→', '→', '→', '→', '→', '→', '→', '→', '↓', '↓', '↓', '↓', '·'],\n",
       "       ['·', '→', '→', '→', '→', '→', '→', '→', '→', '→', '→', '→', '→', '→', '→', '↓', '↓', '↓', '·'],\n",
       "       ['·', '↑', 'X', 'X', 'X', '→', '→', '→', '→', '→', '→', '→', '→', '→', '→', '↓', '↓', '↓', '·'],\n",
       "       ['·', '↑', 'X', 'X', 'X', '→', '→', '→', '→', '→', '→', '→', '→', '→', '→', '→', '→', '⬤', '·'],\n",
       "       ['·', '↓', 'X', 'X', 'X', '→', '→', '→', '→', '→', '→', '→', '→', '↑', '↑', 'X', 'X', 'X', '·'],\n",
       "       ['·', '→', '→', '→', '→', '↑', '→', '→', '→', '→', '→', '→', '↑', '↑', '↑', 'X', 'X', 'X', '·'],\n",
       "       ['·', '→', '↑', 'X', 'X', 'X', '→', '→', '→', '→', '→', '↑', '↑', '↑', '↑', 'X', 'X', 'X', '·'],\n",
       "       ['·', '→', '↑', 'X', 'X', 'X', '→', '→', '→', '→', '↑', '↑', '↑', '↑', '→', '→', '→', '→', '·'],\n",
       "       ['·', '→', '↑', 'X', 'X', 'X', '→', '→', '→', '→', '↑', '↑', '↑', '↑', '→', '→', '↑', '↑', '·'],\n",
       "       ['·', '→', '→', '→', '→', '→', '→', '→', '→', '→', '→', '→', '→', '↑', '→', '→', '↑', '↑', '·'],\n",
       "       ['·', '·', '·', '·', '·', '·', '·', '·', '·', '·', '·', '·', '·', '·', '·', '·', '·', '·', '·']],\n",
       "      dtype='<U1')"
      ]
     },
     "execution_count": 24,
     "metadata": {},
     "output_type": "execute_result"
    }
   ],
   "source": [
    "draw_policy(submarine, policy, show_unchartered=True)"
   ]
  },
  {
   "cell_type": "markdown",
   "metadata": {},
   "source": [
    "## Question 1.3: Policy Evaluation\n",
    "    \n",
    "Define a function that computes the state-value function $V^\\pi$ on this environment when given a random policy $\\pi$."
   ]
  },
  {
   "cell_type": "code",
   "execution_count": 25,
   "metadata": {},
   "outputs": [],
   "source": [
    "def policy_eval(V):\n",
    "    V_new = V\n",
    "    for state, region in np.ndenumerate(submarine.maze):\n",
    "        total_val = 0\n",
    "        if not (region == 4 or state in submarine.goal_states): # absorbing state \n",
    "            action = policy[state]\n",
    "            possible_next_states = get_transition(state, action, probabilistic=True)\n",
    "            \n",
    "            for next_state in possible_next_states:\n",
    "                next_state_val = DISCOUNT * V[next_state[0][0]][next_state[0][1]]\n",
    "                action_val = R[tuple(next_state[0])]\n",
    "                total_val += next_state[1] * (action_val + next_state_val) # next_state[1] = p(next_state|state,action)\n",
    "        V_new[state[0]][state[1]] = total_val     \n",
    "    return V_new"
   ]
  },
  {
   "cell_type": "markdown",
   "metadata": {},
   "source": [
    "## Question 1.4: Policy Iteration\n",
    "Apply policy iteration to solve the submarine navigation task. \n",
    "- In what ways are the results of policy iteration different from those of value iteration?"
   ]
  },
  {
   "cell_type": "code",
   "execution_count": 26,
   "metadata": {},
   "outputs": [],
   "source": [
    "def policy_improv(policy, V):\n",
    "    \"\"\" Policy improvement. \"\"\"\n",
    "    for s, region in np.ndenumerate(submarine.maze):\n",
    "        s_best_val = -float(\"inf\")\n",
    "        for act in range(submarine.num_actions): # iterate actions, [0,1,2,3]\n",
    "            possible_next_states = get_transition(s, act, probabilistic=True)\n",
    "            s_act_val = 0\n",
    "            for next_state in possible_next_states:\n",
    "                next_state_val = DISCOUNT * V[next_state[0][0]][next_state[0][1]]\n",
    "                action_val = R[tuple(next_state[0])]\n",
    "                s_act_val += next_state[1] * (action_val + next_state_val)\n",
    "            if s_act_val > s_best_val:\n",
    "                s_best_val = s_act_val\n",
    "                policy[s[0]][s[1]] = act\n",
    "    return policy"
   ]
  },
  {
   "cell_type": "code",
   "execution_count": 27,
   "metadata": {},
   "outputs": [],
   "source": [
    "policy = np.zeros_like(V)\n",
    "V = np.zeros_like(submarine.maze)\n",
    "for i in range(100):\n",
    "    V = policy_eval(V)\n",
    "    policy = policy_improv(policy, V)"
   ]
  },
  {
   "cell_type": "code",
   "execution_count": 28,
   "metadata": {},
   "outputs": [
    {
     "data": {
      "text/plain": [
       "array([['·', '·', '·', '·', '·', '·', '·', '·', '·', '·', '·', '·', '·', '·', '·', '·', '·', '·', '·'],\n",
       "       ['·', '·', '·', '·', '·', '·', '·', '·', '·', '·', '·', '·', '·', '·', '·', '·', '·', '·', '·'],\n",
       "       ['·', '→', '→', '→', '→', '→', '↓', '↓', '↓', '↓', '↓', '↓', '↓', '↓', '↓', '↓', '↓', '↓', '·'],\n",
       "       ['·', '↓', '↓', 'X', 'X', 'X', '→', '→', '→', '→', '→', '→', '↓', '↓', '↓', '↓', '↓', '↓', '·'],\n",
       "       ['·', '↓', '↓', 'X', 'X', 'X', '↓', '↓', '↓', 'X', 'X', 'X', '→', '→', '→', '→', '↓', '↓', '·'],\n",
       "       ['·', '↓', '↓', 'X', 'X', 'X', '↓', '↓', '↓', 'X', 'X', 'X', '↓', 'X', 'X', 'X', '↓', '↓', '·'],\n",
       "       ['·', '↓', '↓', '↓', '↓', '↓', '↓', '↓', '↓', 'X', 'X', 'X', '↓', 'X', 'X', 'X', '↓', '↓', '·'],\n",
       "       ['·', '→', '→', '→', '→', '→', '→', '→', '→', '→', '→', '→', '↓', 'X', 'X', 'X', '↓', '↓', '·'],\n",
       "       ['·', '→', '→', '→', '→', '→', '→', '→', '→', '→', '→', '→', '→', '→', '↓', '↓', '↓', '↓', '·'],\n",
       "       ['·', '→', '→', '→', '→', '→', '→', '→', '→', '→', '→', '→', '→', '→', '→', '↓', '↓', '↓', '·'],\n",
       "       ['·', '↑', 'X', 'X', 'X', '→', '→', '→', '→', '→', '→', '→', '→', '→', '→', '↓', '↓', '↓', '·'],\n",
       "       ['·', '↑', 'X', 'X', 'X', '→', '→', '→', '→', '→', '→', '→', '→', '→', '→', '→', '→', '⬤', '·'],\n",
       "       ['·', '↓', 'X', 'X', 'X', '→', '→', '→', '→', '→', '→', '→', '→', '↑', '↑', 'X', 'X', 'X', '·'],\n",
       "       ['·', '→', '→', '→', '→', '↑', '→', '→', '→', '→', '→', '→', '↑', '↑', '↑', 'X', 'X', 'X', '·'],\n",
       "       ['·', '↑', '↑', 'X', 'X', 'X', '→', '→', '→', '→', '→', '↑', '↑', '↑', '←', 'X', 'X', 'X', '·'],\n",
       "       ['·', '↑', '↑', 'X', 'X', 'X', '→', '→', '→', '→', '↑', '↑', '↑', '↑', '→', '→', '→', '→', '·'],\n",
       "       ['·', '↑', '↑', 'X', 'X', 'X', '→', '→', '→', '→', '→', '↑', '↑', '↑', '↑', '↑', '↑', '↑', '·'],\n",
       "       ['·', '→', '→', '→', '→', '→', '→', '→', '→', '→', '→', '→', '→', '↑', '↑', '↑', '↑', '↑', '·'],\n",
       "       ['·', '·', '·', '·', '·', '·', '·', '·', '·', '·', '·', '·', '·', '·', '·', '·', '·', '·', '·']],\n",
       "      dtype='<U1')"
      ]
     },
     "execution_count": 28,
     "metadata": {},
     "output_type": "execute_result"
    }
   ],
   "source": [
    "draw_policy(submarine, policy, show_unchartered=True)"
   ]
  },
  {
   "cell_type": "markdown",
   "metadata": {},
   "source": [
    "## Question 1.5: Hyper-parameters\n",
    "\n",
    "For both policy and value iteration:\n",
    "- How does varying the discount factor $\\gamma$ affect the calculated policy? \n",
    "    - Repeat the same experiment with at least three different settings of a discount factor in order to make your argument.\n",
    "- Given the insights from your experiment above, suggest a suitable strategy for setting an appropriate discount rate?"
   ]
  },
  {
   "cell_type": "markdown",
   "metadata": {},
   "source": [
    "**Value Iteration – Hyperparam optimization**"
   ]
  },
  {
   "cell_type": "code",
   "execution_count": 109,
   "metadata": {},
   "outputs": [
    {
     "name": "stdout",
     "output_type": "stream",
     "text": [
      "Value iteration converged at iteration #31\n",
      "CPU times: user 405 ms, sys: 7.68 ms, total: 413 ms\n",
      "Wall time: 643 ms\n"
     ]
    }
   ],
   "source": [
    "DISCOUNT = [1e-200, 1e-50, 1e-10, 0.001, 0.05, 0.2, 0.5, 0.8, 0.9, 0.99, 0.999999999]\n",
    "R = calculate_reward()\n",
    "V = val_iteration(R)\n",
    "policy = extract_policy(V, R)\n",
    "# plt.imshow(V,cmap='gray')\n",
    "# draw_policy(submarine, policy, show_unchartered=True)"
   ]
  },
  {
   "cell_type": "markdown",
   "metadata": {},
   "source": [
    "**Policy Iteration – Hyperparam optimization**"
   ]
  },
  {
   "cell_type": "code",
   "execution_count": 112,
   "metadata": {},
   "outputs": [],
   "source": [
    "DISCOUNT = [1e-200, 1e-50, 1e-10, 0.001, 0.05, 0.2, 0.5, 0.8, 0.9, 0.99, 0.999999999]\n",
    "policy = np.zeros_like(V)\n",
    "V = np.zeros_like(submarine.maze)\n",
    "for i in range(100):\n",
    "    V = policy_eval(V)\n",
    "    policy = policy_improv(policy, V)\n",
    "# plt.imshow(V,cmap='gray')\n",
    "# draw_policy(submarine, policy, show_unchartered=True)"
   ]
  },
  {
   "cell_type": "markdown",
   "metadata": {},
   "source": [
    "** Student Answer **\n",
    "\n",
    "1. After running several experiments above I have the following observations. Setting the discount to a small numbers like 0.1 very quickly interrupts the flow of information in the MDP. If the discount factor is too small (say 1e-50 or even 1e-3), the model cannot learn an optimal policy because the model 'sees' just a few steps beyond its current state, because values of subsequent states are too 'discounted' to be factored in. Thus it may seem like a good idea to set a high discount rate, though always less 1. Research has shown that Dynamic Programming algorithms, as well as SARSA and Q-learning, only converge to an optimal policy only for discounted reward and infinite policy horizon (Sutton & Barto, Reinforcement Learning). Additionally, setting Gamma, the discount factor, to a large value increases the computational cost. A very quick experiment showed an exponential increase of computational time:\n",
    "DISCOUNT = 0.3  -->  0.64 s\n",
    "DISCOUNT = 0.7  -->  0.68 s\n",
    "DISCOUNT = 0.9  -->  1.6  s\n",
    "DISCOUNT = 0.99 --> 10.8  s\n",
    "\n",
    "2. Setting an optimal discount factor is an engineering problem and it depends on the specific configuration of the problem. In a finite MDP, it makes a big difference if the number of states is 10 or 10,000. Additionally, the structure of the MDP matters as well.\n",
    "To illustrate, in the cart pole balancing problem, in which we have to balance a pole indefinitely, we don't need to look too far ahead. We can reward the model when it achhieves balance – which typically happens just a few steps ahead. While other problems, like winning the game of GO require the model to look at many more more steps ahead. The discount factor must always be in the range (0,1). Values like 0.8 often work, though the best value can be found with experimentation only and when the semantics of the problem are taken into account."
   ]
  },
  {
   "cell_type": "markdown",
   "metadata": {},
   "source": [
    "## Question 1.6: Noisy trigger\n",
    "\n",
    "The mines now have a 50% chance of blowing up if you are within their direct vicinity (i.e. on their border). \n",
    "\n",
    "How does this affect your policy? \n",
    "\n",
    "Implement this and justify your answer based on the results."
   ]
  },
  {
   "cell_type": "code",
   "execution_count": 27,
   "metadata": {},
   "outputs": [
    {
     "name": "stdout",
     "output_type": "stream",
     "text": [
      "Value iteration converged at iteration #71\n"
     ]
    },
    {
     "data": {
      "text/plain": [
       "<matplotlib.image.AxesImage at 0x1120cb198>"
      ]
     },
     "execution_count": 27,
     "metadata": {},
     "output_type": "execute_result"
    },
    {
     "data": {
      "image/png": "[encoded data removed]",
      "text/plain": [
       "<matplotlib.figure.Figure at 0x112072358>"
      ]
     },
     "metadata": {},
     "output_type": "display_data"
    }
   ],
   "source": [
    "R_noisy = calculate_reward(noisy=True)\n",
    "V_noisy = val_iteration(R_noisy)\n",
    "plt.imshow(V_noisy, cmap='gray')"
   ]
  },
  {
   "cell_type": "code",
   "execution_count": 28,
   "metadata": {},
   "outputs": [
    {
     "data": {
      "text/plain": [
       "array([['·', '·', '·', '·', '·', '·', '·', '·', '·', '·', '·', '·', '·', '·', '·', '·', '·', '·', '·'],\n",
       "       ['·', '·', '·', '·', '·', '·', '·', '·', '·', '·', '·', '·', '·', '·', '·', '·', '·', '·', '·'],\n",
       "       ['·', '↑', '↑', '↑', '↑', '→', '→', '→', '→', '→', '→', '→', '↓', '↓', '↓', '↓', '↓', '↓', '·'],\n",
       "       ['·', '↑', '↑', 'X', 'X', 'X', '↑', '↑', '↑', '↑', '↑', '→', '→', '→', '→', '→', '↓', '↓', '·'],\n",
       "       ['·', '↓', '←', 'X', 'X', 'X', '→', '↑', '↑', 'X', 'X', 'X', '↑', '↑', '↑', '→', '→', '↓', '·'],\n",
       "       ['·', '↓', '↓', 'X', 'X', 'X', '↓', '↓', '←', 'X', 'X', 'X', '↑', 'X', 'X', 'X', '→', '↓', '·'],\n",
       "       ['·', '↓', '↓', '↓', '↓', '↓', '↓', '↓', '↓', 'X', 'X', 'X', '↓', 'X', 'X', 'X', '→', '↓', '·'],\n",
       "       ['·', '↓', '↓', '↓', '↓', '↓', '↓', '↓', '↓', '↓', '↓', '↓', '↓', 'X', 'X', 'X', '↓', '↓', '·'],\n",
       "       ['·', '→', '→', '→', '→', '→', '→', '→', '↓', '↓', '↓', '↓', '↓', '↓', '↓', '↓', '↓', '↓', '·'],\n",
       "       ['·', '↑', '↑', '↑', '→', '→', '→', '→', '→', '→', '→', '→', '→', '→', '→', '↓', '↓', '↓', '·'],\n",
       "       ['·', '↑', 'X', 'X', 'X', '→', '→', '→', '→', '→', '→', '→', '→', '→', '→', '→', '→', '↓', '·'],\n",
       "       ['·', '←', 'X', 'X', 'X', '→', '→', '→', '→', '→', '→', '→', '↑', '↑', '↑', '↑', '→', '⬤', '·'],\n",
       "       ['·', '←', 'X', 'X', 'X', '→', '→', '→', '→', '→', '→', '↑', '↑', '↑', '←', 'X', 'X', 'X', '·'],\n",
       "       ['·', '←', '←', '←', '→', '→', '→', '→', '→', '→', '↑', '↑', '↑', '↑', '←', 'X', 'X', 'X', '·'],\n",
       "       ['·', '↑', '←', 'X', 'X', 'X', '→', '→', '↑', '↑', '↑', '↑', '↑', '↑', '←', 'X', 'X', 'X', '·'],\n",
       "       ['·', '↑', '←', 'X', 'X', 'X', '→', '↑', '↑', '↑', '↑', '↑', '↑', '↑', '←', '←', '↓', '↓', '·'],\n",
       "       ['·', '↓', '↓', 'X', 'X', 'X', '→', '→', '↑', '↑', '↑', '↑', '↑', '↑', '↑', '←', '←', '←', '·'],\n",
       "       ['·', '↓', '↓', '↓', '↓', '→', '→', '→', '→', '→', '→', '↑', '↑', '↑', '↑', '↑', '↑', '↑', '·'],\n",
       "       ['·', '·', '·', '·', '·', '·', '·', '·', '·', '·', '·', '·', '·', '·', '·', '·', '·', '·', '·']],\n",
       "      dtype='<U1')"
      ]
     },
     "execution_count": 28,
     "metadata": {},
     "output_type": "execute_result"
    }
   ],
   "source": [
    "policy_noisy = extract_policy(V_noisy, R_noisy)\n",
    "draw_policy(submarine, policy_noisy, show_unchartered=True)"
   ]
  },
  {
   "cell_type": "markdown",
   "metadata": {},
   "source": [
    "# Question 2:\n",
    "*Remark: This second question need not be implemented in the notebook, in the same way you\n",
    "wrote programs for the first question. Instead, we expect to see a complete problem formulation,\n",
    "with suitable expressions and graphs, and an explanation of the solution procedure in terms of those\n",
    "expressions. The notebook only provides a means by which to explore the question; this question should be completed by hand.*\n",
    "\n",
    "\n",
    "Now consider two additions to the above problem specification, that are common in realistic versions\n",
    "of this problem:"
   ]
  },
  {
   "cell_type": "markdown",
   "metadata": {},
   "source": [
    "---\n",
    "1) \n",
    "The agent must include within the costs, the ides of navigability - describing the fact that\n",
    "some parts of a given map are easier to travel through than others (typically, due to the ‘diffi-\n",
    "culty’ of performing low-level control with respect to the terrain features found at that depth).\n",
    "One way to model this would be to include a distribution of costs over the given terrain map.\n",
    "By re-writing your complete problem specification, explain how you will incorporate this\n",
    "feature in your modelling."
   ]
  },
  {
   "cell_type": "markdown",
   "metadata": {},
   "source": [
    "** Student Writeup **\n",
    "\n",
    "One way to include within the cost the idea of navigability is to modify the reward function. We can define a function which captures numerically the the difficulty of navigating the terrain in every square of the environment, assuming the environment is a discrete and finate problem like the submarine challenge from Q 1. Then we can use incrporate the cost of navigability with the original reward function by scaling the reward, in such a way that the water square which has the average cost for navigation is left unchaged and the reward in all other water squares is increased or decreased proportionally. "
   ]
  },
  {
   "cell_type": "markdown",
   "metadata": {},
   "source": [
    "---\n",
    "2)\n",
    "The agents in the environment, previously viewed as static obstacles defining where you can\n",
    "and can not traverse, could have their own dynamics. For instance, one of the mines could be\n",
    "an active craft with its own motion policy. Assuming that you can observe the current position\n",
    "of this active craft through a noisy channel (e.g., by interpretation of sonar reflections), pose\n",
    "your - now interactive - motion planning problem in Bayesian terms and explain how your\n",
    "solution strategy might need to be altered."
   ]
  },
  {
   "cell_type": "markdown",
   "metadata": {},
   "source": [
    "** Student Writeup **\n",
    "\n",
    "Assumptions:\n",
    "* We have a noisy $(\\tilde{\\theta_x},\\tilde{\\theta_y})$ observation of the location of the other craft which is sampled from the true unobserved location of the other craft $\\tilde{\\theta_x} \\sim \\mathcal{N}(\\theta_x; \\mu_{\\theta_x}, \\sigma_{\\theta_x}^2)$ and $\\tilde{\\theta_y} \\sim \\mathcal{N}(\\theta_y; \\mu_{\\theta_y}, \\sigma_{\\theta_y}^2) $\n",
    "* We assume that (1) the other craft is definitely in the environment, (2) not on an edge, in the sky or insdie a mine, and (3) our vessel and the other craft can be inside the same square of water.\n",
    "* The location of the other craft depends only on the current observation, and not on prior observations.\n",
    "* Our objective is to avoid interactions with the other craft. An interaction happens when both vessels ends up in the same square. This carries a large amount of negative reward."
   ]
  },
  {
   "cell_type": "markdown",
   "metadata": {},
   "source": [
    "We can define a Partially Observable Markov Decision Process, defined by the tuple $ ⟨S, A, T(s,a), R(\\tilde{\\theta}, s'), O(s',a), \\tilde{\\Theta}⟩ $, where:\n",
    "\n",
    "* The state space $S = \\{(x_1,y_1), (x_2,y_2) ... (x_{19},y_{19})\\}, S \\in \\mathbb{R}^{361}$, action space $A = \\{UP, DOWN, LEFT, RIGHT\\}$ and transition function $T$ are defined as in Question 1.\n",
    "* Just like before the submarine transitions from state $s$ to $s'$ according to transition function $T(s,a)$. After each transition, the submarine receives reward $R(s')$ which depends only the state that we transition to.\n",
    "* $O (s',a) $ is an observation function which maps the action we take and our resulting state to a new nosiy observation $O(s',a): S \\times A \\to \\tilde{\\theta}$, such that $(\\tilde{\\theta_x}, \\tilde{\\theta_y}) \\sim \\Theta$\n",
    "* We modify the reward function $R$ to accomodate accomodate for the uncertainty of the location of the other craft. We put a Gaussian probability density anchord in the coordinates of the noisy estimate $(\\tilde{\\theta_x}, \\tilde{\\theta_y})$. The square where the center of mass falls, $(\\tilde{\\theta_x}, \\tilde{\\theta_y})$ receives the full amount of negative award that we choose to model for 'meeting' the other craft. But we also assign radially negative reward in the squares surrounding the best noisy estimate. The magnitude of the negative reward decreases as move further away from the center of mass.\n",
    "* $\\tilde{\\Theta}$ is the set of noisy observations of the other craft. We define $Θ$ to be the discretized set of all 235 possible noisy locations of the craft, $\\tilde{\\Theta} = \\{ \\tilde{\\theta_1}, \\tilde{\\theta_2}, ... \\tilde{\\theta_{235}} \\}, \\tilde{\\Theta} \\in \\mathbb{R}^{235} $ (Note: $235$ is the number of squares of water, including unchartered therritory but excluding the sky, edges and mines, $19*19-17*2-19*2-6*9 = 235$)\n",
    "\n",
    "The probability of transitioning to a new state $s'$ depends on the marginal probability of transitioning to $s'$ given observation $\\tilde{\\theta}$ and on the probability of observation $\\tilde{\\theta}$  occurring in $s$.\n",
    "\n",
    "We can now calculate the expected reward by recursing similarly to the way we implemented value iteration:\n",
    "\n",
    "$V[\\tilde{\\theta},a] = \\mathbb{E}_{s \\sim b}(R(\\theta, s') + \\mathbb{E}_{s',o,a'}(V[\\tilde{\\theta}',a']) )$"
   ]
  }
 ],
 "metadata": {
  "kernelspec": {
   "display_name": "Python 3",
   "language": "python",
   "name": "python3"
  },
  "language_info": {
   "codemirror_mode": {
    "name": "ipython",
    "version": 3
   },
   "file_extension": ".py",
   "mimetype": "text/x-python",
   "name": "python",
   "nbconvert_exporter": "python",
   "pygments_lexer": "ipython3",
   "version": "3.6.3"
  }
 },
 "nbformat": 4,
 "nbformat_minor": 2
}
